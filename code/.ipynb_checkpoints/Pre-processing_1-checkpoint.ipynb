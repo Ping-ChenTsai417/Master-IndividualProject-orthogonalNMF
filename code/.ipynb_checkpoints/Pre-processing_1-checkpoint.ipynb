{
 "cells": [
  {
   "cell_type": "code",
   "execution_count": 1,
   "metadata": {},
   "outputs": [
    {
     "name": "stdout",
     "output_type": "stream",
     "text": [
      "\u001b[0m\u001b[01;32m'Practice segyio-Copy1.ipynb'\u001b[0m*  \u001b[01;32m'Weakly-labelled code.txt'\u001b[0m*\r\n",
      " \u001b[01;32mPre-processing_1.ipynb\u001b[0m*         \u001b[01;32medgedetection.ipynb\u001b[0m*\r\n",
      "\u001b[01;32m'ReadSegyio links.txt'\u001b[0m*\r\n"
     ]
    },
    {
     "data": {
      "text/plain": [
       "'/mnt/c/Users/Tsaip/OneDrive - Imperial College London/Ovation Data Internship 2020/code'"
      ]
     },
     "execution_count": 1,
     "metadata": {},
     "output_type": "execute_result"
    }
   ],
   "source": [
    "%ls\n",
    "%pwd"
   ]
  },
  {
   "cell_type": "code",
   "execution_count": 2,
   "metadata": {},
   "outputs": [],
   "source": [
    "import segyio\n",
    "import pprint\n",
    "import matplotlib.pyplot as plt\n",
    "import numpy as np"
   ]
  },
  {
   "cell_type": "code",
   "execution_count": null,
   "metadata": {},
   "outputs": [],
   "source": [
    "f1 = '/mnt/c/Users/Tsaip/OneDrive - Imperial College London/Ovation Data Internship 2020/Data/Dutch Government_F3_entire_8bit seismic.segy'\n",
    "f2 = '/mnt/c/Users/Tsaip/OneDrive - Imperial College London/Ovation Data Internship 2020/Data/penobscot.sgy'\n",
    "# f1 = segyio.open(f1, ignore_geometry=True)\n",
    "# Read full data cube\n",
    "data1 = segyio.tools.cube(f1)\n",
    "\n",
    "def readSEGY(filename):\n",
    "    print('Loading data cube from',filename,'with:')\n",
    "\n",
    "    # Read full data cube\n",
    "    data = segyio.tools.cube(filename)\n",
    "\n",
    "    # Put temporal axis first\n",
    "    data = np.moveaxis(data, -1, 0)\n",
    "\n",
    "    #Make data cube fast to acess\n",
    "    data = np.ascontiguousarray(data,'float32')\n",
    "\n",
    "    #Read meta data\n",
    "    segyfile = segyio.open(filename, \"r\")\n",
    "    print('  Crosslines: ', segyfile.xlines[0], ':', segyfile.xlines[-1])\n",
    "    print('  Inlines:    ', segyfile.ilines[0], ':', segyfile.ilines[-1])\n",
    "    print('  Timeslices: ', '1', ':', data.shape[0])\n",
    "\n",
    "    #Make dict with cube-info\n",
    "    data_info = {}\n",
    "    data_info['crossline_start'] = segyfile.xlines[0]\n",
    "    data_info['inline_start'] = segyfile.ilines[0]\n",
    "    data_info['timeslice_start'] = 1 #Todo: read this from segy\n",
    "    data_info['shape'] = data.shape\n",
    "    #Read dt and other params needed to do create a new\n",
    "\n",
    "\n",
    "    return data, data_info\n",
    "\n"
   ]
  },
  {
   "cell_type": "code",
   "execution_count": null,
   "metadata": {},
   "outputs": [],
   "source": [
    "fig = plt.figure(figsize=(14,6))\n",
    "ax1 = fig.add_subplot(122)\n",
    "amp = ax1.imshow(data1[:,:,15], cmap='gray_r');\n",
    "fig.colorbar(amp, ax=ax1)\n",
    "ax1.set_xticks([])\n",
    "ax1.set_yticks([])\n",
    "ax1.invert_xaxis()\n",
    "data1.shape"
   ]
  },
  {
   "cell_type": "code",
   "execution_count": null,
   "metadata": {},
   "outputs": [],
   "source": [
    "data, dataInfo = readSEGY(f1)"
   ]
  },
  {
   "cell_type": "code",
   "execution_count": null,
   "metadata": {},
   "outputs": [],
   "source": [
    "dataInfo"
   ]
  }
 ],
 "metadata": {
  "kernelspec": {
   "display_name": "Python 3",
   "language": "python",
   "name": "python3"
  },
  "language_info": {
   "codemirror_mode": {
    "name": "ipython",
    "version": 3
   },
   "file_extension": ".py",
   "mimetype": "text/x-python",
   "name": "python",
   "nbconvert_exporter": "python",
   "pygments_lexer": "ipython3",
   "version": "3.7.6"
  }
 },
 "nbformat": 4,
 "nbformat_minor": 4
}
