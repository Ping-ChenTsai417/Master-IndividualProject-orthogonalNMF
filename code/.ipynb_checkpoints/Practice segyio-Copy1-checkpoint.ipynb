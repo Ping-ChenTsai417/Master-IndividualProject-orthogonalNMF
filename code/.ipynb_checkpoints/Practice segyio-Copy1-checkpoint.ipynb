{
 "cells": [
  {
   "cell_type": "code",
   "execution_count": 28,
   "metadata": {},
   "outputs": [
    {
     "data": {
      "text/plain": [
       "\"\\nThe seismic data recorded for one channel. A trace \\nis a recording of the Earth's response to \\nseismic energy passing from the source, \\nthrough subsurface layers, and back to the \\nreceiver. Synonyms: seismic trace.\\n\""
      ]
     },
     "execution_count": 28,
     "metadata": {},
     "output_type": "execute_result"
    }
   ],
   "source": [
    "import segyio\n",
    "import pprint\n",
    "# segyio record traces\n",
    "'''\n",
    "The seismic data recorded for one channel. A trace \n",
    "is a recording of the Earth's response to \n",
    "seismic energy passing from the source, \n",
    "through subsurface layers, and back to the \n",
    "receiver. Synonyms: seismic trace.\n",
    "'''"
   ]
  },
  {
   "cell_type": "code",
   "execution_count": 2,
   "metadata": {},
   "outputs": [
    {
     "name": "stdout",
     "output_type": "stream",
     "text": [
      " Volume in drive C is Windows\n",
      " Volume Serial Number is ECF6-D593\n",
      "\n",
      " Directory of C:\\Users\\Tsaip\\OneDrive - Imperial College London\\Transform 2020\\transform2020-tutorial\\segy\n",
      "\n",
      "11/06/2020  10:10    <DIR>          .\n",
      "11/06/2020  10:10    <DIR>          ..\n",
      "11/06/2020  10:10    <DIR>          .ipynb_checkpoints\n",
      "11/06/2020  09:53               203 fetch.sh\n",
      "11/06/2020  10:02       359,620,364 Penobscot.sgy\n",
      "11/06/2020  10:03    <DIR>          Penobscot_0-1000ms.sgy\n",
      "11/06/2020  10:08             2,557 Practice segyio.ipynb\n",
      "11/06/2020  10:01            14,600 small.sgy\n",
      "               4 File(s)    359,637,724 bytes\n",
      "               4 Dir(s)  98,835,795,968 bytes free\n"
     ]
    }
   ],
   "source": [
    "segyio.__version__\n",
    "!dir"
   ]
  },
  {
   "cell_type": "code",
   "execution_count": 5,
   "metadata": {},
   "outputs": [
    {
     "data": {
      "text/plain": [
       "['#! /usr/bin/env bash\\n',\n",
       " '\\n',\n",
       " 'set -xe\\n',\n",
       " '\\n',\n",
       " 'wget -qO- https://s3.amazonaws.com/agilegeo/Penobscot_0-1000ms.sgy.zip | funzip > penobscot.sgy\\n',\n",
       " 'wget https://github.com/equinor/segyio/raw/master/test-data/small.sgy\\n']"
      ]
     },
     "execution_count": 5,
     "metadata": {},
     "output_type": "execute_result"
    }
   ],
   "source": [
    "f = open('fetch.sh')\n",
    "f.readlines()"
   ]
  },
  {
   "cell_type": "code",
   "execution_count": 13,
   "metadata": {},
   "outputs": [],
   "source": [
    "segyio.open('penobscot.sgy')\n",
    "#inline number:189\n",
    "f = segyio.open('penobscot.sgy')\n",
    "# accsess function\n",
    "# help(f)\n",
    "# you don't want the sgy file to remain open when you're\n",
    "# done with this block. It will close it for you using 'with'\n",
    "with segyio.open('penobscot.sgy') as g:\n",
    "    # file opened\n",
    "    pass\n",
    "# file closed \n",
    "#help(f)\n"
   ]
  },
  {
   "cell_type": "code",
   "execution_count": 21,
   "metadata": {},
   "outputs": [
    {
     "data": {
      "text/plain": [
       "289081"
      ]
     },
     "execution_count": 21,
     "metadata": {},
     "output_type": "execute_result"
    }
   ],
   "source": [
    "f = segyio.open('penobscot.sgy')\n",
    "# indicate datatype\n",
    "f.endian\n",
    "# Show samples\n",
    "# segyio is collection of traces that are in some way ordered\n",
    "# a list of traces\n",
    "type(f.trace[0])\n",
    "trance0 = f.trace[1024]\n",
    "len(f.trace)# show length of traces\n",
    "\n",
    "# traces behaves like array"
   ]
  },
  {
   "cell_type": "code",
   "execution_count": 23,
   "metadata": {},
   "outputs": [
    {
     "name": "stdout",
     "output_type": "stream",
     "text": [
      "[    0.     0.     0.     0.     0.     0.     0.     0.     0.     0.\n",
      "     0.     0.     0.     0.     0.     0.   -69.  -234.  -503.  -861.\n",
      " -1278. -1463. -1467. -1151.  -380.   768.  2241.  3906.  5474.  6578.\n",
      "  6689.  5744.  3704.   987. -1879. -4256. -6038. -6559. -6103. -5105.\n",
      " -3890. -2441. -1177.  -272.   251.   497.   653.   816.   976.   977.\n",
      "   739.   346.  -114.  -689. -1243. -1285.  -536.   688.  1552.  1710.\n",
      "  1482.  1231.   829.   162.  -372.  -270.   228.   275.  -412.  -984.\n",
      "  -758.   112.   803.   806.   528.   880.  1951.  2123.   171. -2542.\n",
      " -3550. -2185.  -208.  1071.  1748.  1717.   237. -2135. -3313. -2122.\n",
      "   121.  1642.  1913.  1383.   344.  -486.   -11.  1130.  1021.  -493.\n",
      " -1437.  -765.   329.   498.   103.    49.   145.    41.   -42.   -40.\n",
      "  -225.  -444.   -67.   791.   963.  -149. -1361. -1227.  -141.   344.\n",
      "  -160.  -666.  -477.    74.   440.   350.   -96.  -331.   450.  2179.\n",
      "  2883.   427. -3971. -5998. -2981.  2357.  4975.  3368.   555. -1021.\n",
      " -1755. -2264. -1917.  -625.   609.  1047.  1239.  2082.  3085.  2547.\n",
      "  -216. -3261. -3792. -1705.   168.  -217. -1643. -1706.    34.  1903.\n",
      "  2288.  1350.   489.   305.   204.  -182.  -519.  -609.  -587.  -386.\n",
      "   260.  1086.  1249.   630.    94.   131.    59.  -758. -1733. -1716.\n",
      "  -485.   783.   833.    60.  -170.   377.   578.   -61.  -235.  1156.\n",
      "  2549.  1287. -2229. -4268. -2519.   763.  2009.   838.  -502.  -776.\n",
      "  -570.  -176.   716.  1577.  1281.   105.  -264.   883.  2002.  1408.\n",
      "  -534. -2138. -2286. -1124.   302.   808.   226.  -428.  -298.   308.\n",
      "   512.    97.  -363.  -318.    59.   272.    14.  -757. -1588. -1445.\n",
      "   381.  2979.  4038.  2389.  -529. -2342. -2334. -1574. -1038.  -709.\n",
      "  -471.  -593.  -856.  -212.  1697.  3290.  2601.   -90. -2391. -2547.\n",
      " -1028.]\n",
      "[ 0.000e+00  0.000e+00  0.000e+00  0.000e+00  0.000e+00  0.000e+00\n",
      "  0.000e+00  0.000e+00  0.000e+00  0.000e+00  0.000e+00  0.000e+00\n",
      "  0.000e+00  0.000e+00  0.000e+00  0.000e+00 -5.100e+01 -1.660e+02\n",
      " -3.510e+02 -5.900e+02 -8.650e+02 -9.840e+02 -1.001e+03 -7.960e+02\n",
      " -2.700e+02  6.070e+02  1.735e+03  2.941e+03  4.011e+03  4.705e+03\n",
      "  4.680e+03  3.881e+03  2.298e+03  2.580e+02 -1.843e+03 -3.569e+03\n",
      " -4.739e+03 -4.951e+03 -4.443e+03 -3.586e+03 -2.631e+03 -1.527e+03\n",
      " -5.780e+02  7.000e+00  2.220e+02  2.870e+02  4.980e+02  8.440e+02\n",
      "  1.122e+03  1.153e+03  8.950e+02  3.630e+02 -4.410e+02 -1.341e+03\n",
      " -1.837e+03 -1.442e+03 -1.820e+02  1.195e+03  1.904e+03  1.930e+03\n",
      "  1.670e+03  1.269e+03  6.590e+02  2.000e+00 -3.940e+02 -4.560e+02\n",
      " -3.180e+02 -2.890e+02 -5.520e+02 -8.770e+02 -7.510e+02  8.200e+01\n",
      "  9.770e+02  1.279e+03  1.374e+03  1.921e+03  2.253e+03  9.520e+02\n",
      " -1.659e+03 -3.479e+03 -3.195e+03 -1.482e+03  7.400e+01  1.039e+03\n",
      "  1.694e+03  1.800e+03  6.480e+02 -1.383e+03 -2.625e+03 -2.005e+03\n",
      " -2.970e+02  1.156e+03  1.438e+03  4.580e+02 -9.250e+02 -9.530e+02\n",
      "  1.000e+03  2.698e+03  1.915e+03 -3.390e+02 -1.404e+03 -7.890e+02\n",
      " -1.290e+02 -1.620e+02 -1.690e+02  1.950e+02  4.000e+02  3.040e+02\n",
      "  2.610e+02  2.290e+02 -1.780e+02 -7.690e+02 -7.820e+02 -1.280e+02\n",
      "  2.550e+02 -6.500e+01 -1.190e+02  5.870e+02  8.680e+02 -3.110e+02\n",
      " -1.980e+03 -2.371e+03 -1.049e+03  7.300e+02  1.505e+03  9.500e+02\n",
      " -5.500e+01 -2.390e+02  1.148e+03  3.309e+03  3.654e+03  2.270e+02\n",
      " -4.913e+03 -6.994e+03 -3.752e+03  1.648e+03  4.372e+03  3.426e+03\n",
      "  1.582e+03  3.190e+02 -1.013e+03 -2.355e+03 -2.469e+03 -1.210e+03\n",
      "  2.400e+02  9.640e+02  1.340e+03  1.995e+03  2.459e+03  1.568e+03\n",
      " -7.550e+02 -2.807e+03 -2.559e+03 -3.750e+02  1.123e+03  2.630e+02\n",
      " -1.704e+03 -2.363e+03 -8.870e+02  1.226e+03  1.926e+03  1.179e+03\n",
      "  6.780e+02  1.034e+03  1.123e+03  2.340e+02 -1.012e+03 -1.674e+03\n",
      " -1.329e+03 -2.160e+02  8.450e+02  1.017e+03  3.330e+02 -3.150e+02\n",
      " -1.390e+02  5.850e+02  1.035e+03  6.580e+02 -4.970e+02 -1.720e+03\n",
      " -1.834e+03 -4.810e+02  1.018e+03  1.274e+03  5.890e+02  3.800e+01\n",
      " -4.470e+02 -1.154e+03 -8.720e+02  1.368e+03  3.428e+03  2.166e+03\n",
      " -1.748e+03 -4.096e+03 -2.618e+03  3.240e+02  1.352e+03  2.960e+02\n",
      " -6.560e+02 -4.810e+02 -4.500e+01  1.840e+02  7.240e+02  1.285e+03\n",
      "  8.260e+02 -2.770e+02 -3.340e+02  9.780e+02  1.984e+03  1.377e+03\n",
      " -2.790e+02 -1.567e+03 -1.708e+03 -7.130e+02  6.960e+02  1.238e+03\n",
      "  3.200e+02 -1.031e+03 -1.470e+03 -1.011e+03 -4.600e+02  9.000e+00\n",
      "  6.740e+02  1.225e+03  9.800e+02  1.130e+02 -5.510e+02 -9.050e+02\n",
      " -1.374e+03 -1.460e+03 -8.400e+01  2.351e+03  3.578e+03  2.156e+03\n",
      " -5.390e+02 -1.978e+03 -1.614e+03 -8.340e+02 -5.710e+02 -5.160e+02\n",
      " -4.890e+02 -9.140e+02 -1.426e+03 -7.130e+02  1.414e+03  3.025e+03\n",
      "  2.303e+03 -4.500e+01 -1.784e+03 -1.664e+03 -3.430e+02]\n",
      "[    0.     0.     0.     0.     0.     0.     0.     0.     0.     0.\n",
      "     0.     0.     0.     0.     0.     0.   -26.  -123.  -306.  -560.\n",
      "  -872. -1063. -1190. -1099.  -662.   163.  1353.  2773.  4141.  5199.\n",
      "  5530.  4995.  3523.  1376.  -947. -2993. -4611. -5272. -5130. -4476.\n",
      " -3557. -2361. -1208.  -382.    56.   284.   553.   831.   974.   842.\n",
      "   438.  -122.  -721. -1256. -1457.  -989.   215.  1520.  2243.  2275.\n",
      "  1985.  1627.  1015.     8. -1007. -1301.  -758.  -250.  -434.  -782.\n",
      "  -385.   809.  1857.  2138.  1964.  1541.   391. -1356. -2695. -2714.\n",
      " -1589.  -120.   899.  1399.  1602.  1344.     7. -2184. -3612. -2920.\n",
      "  -678.  1332.  1616.   627.    83.  1041.  2412.  2096.   -54. -1872.\n",
      " -1682.  -278.   531.   452.   286.   323.   259.   133.   144.   212.\n",
      "   -85.  -692.  -845.  -209.   348.   146.  -260.  -379.  -478.  -618.\n",
      "  -457.   -32.   190.   -43.  -495.  -729.  -437.   503.  2090.  3566.\n",
      "  3032.  -634. -5140. -6244. -2566.  2350.  4386.  3167.  1159.  -393.\n",
      " -1615. -2170. -1563.  -372.   389.   506.   813.  1856.  2741.  2005.\n",
      "  -429. -2752. -3018. -1497.  -228.  -368. -1101. -1053.   217.  1681.\n",
      "  1885.   973.   370.   450.   334.  -217.  -443.   -75.   153.  -193.\n",
      "  -486.  -177.   344.   427.    58.  -247.  -105.   146.   -77.  -685.\n",
      "  -958.  -600.   -18.   493.   947.   918.  -135. -1209.  -202.  2602.\n",
      "  3720.   779. -3613. -4786. -1919.  1304.  1743.   295.  -642.  -579.\n",
      "  -366.   -96.   562.  1086.   769.   153.   330.  1191.  1590.   832.\n",
      "  -637. -1746. -1631.  -289.  1285.  1605.   301. -1162. -1389.  -811.\n",
      "  -525.  -462.    85.   931.  1169.   570.  -302. -1062. -1541. -1242.\n",
      "   307.  2407.  3230.  1834.  -460. -1662. -1495. -1102. -1014.  -785.\n",
      "  -479.  -852. -1503.  -747.  1678.  3426.  2399.  -416. -2252. -1718.\n",
      "   273.]\n",
      "[    0.     0.     0.     0.     0.     0.     0.     0.     0.     0.\n",
      "     0.     0.     0.     0.     0.     0.   -16.  -127.  -357.  -710.\n",
      " -1180. -1538. -1860. -1972. -1654.  -805.   620.  2513.  4585.  6469.\n",
      "  7680.  7735.  6498.  4122.  1077. -1977. -4768. -6374. -6808. -6381.\n",
      " -5462. -4026. -2472. -1168.  -309.   142.   528.   904.  1181.  1192.\n",
      "   925.   522.   -78.  -930. -1586. -1409.  -137.  1567.  2810.  3109.\n",
      "  2620.  1559.   159. -1181. -1760. -1174.  -104.   288.    20.    96.\n",
      "   835.  1521.  1384.   658.   241.   439.   635.    33. -1238. -2220.\n",
      " -2335. -1690.  -737.   500.  1935.  2576.  1190. -1648. -3634. -3151.\n",
      "  -957.  1090.  1760.  1242.   430.   325.  1092.  1468.   458.  -966.\n",
      " -1214.  -383.   132.    66.   384.  1146.  1167.   221.  -588.  -571.\n",
      "  -219.  -119.    12.   505.   634.  -215. -1122. -1080.  -649.  -759.\n",
      " -1195. -1126.  -347.   603.  1147.  1079.   654.   478.  1099.  2075.\n",
      "  1487. -1791. -5444. -5609. -1511.  3385.  5310.  3798.   950. -1628.\n",
      " -3213. -3169. -1594.   285.  1343.  1773.  2415.  3029.  2332.   101.\n",
      " -2129. -2933. -2428. -1576.  -836.  -371.  -407.  -536.    36.  1038.\n",
      "  1427.  1230.  1173.  1159.   580.  -298.  -777.  -905. -1063.  -910.\n",
      "    10.  1112.  1434.   935.   329.    58.   -28.  -297.  -799. -1271.\n",
      " -1399. -1035.  -201.   852.  1451.   864.  -638. -1297.   432.  3262.\n",
      "  3615.   144. -3857. -4296. -1289.  1413.  1411.  -165. -1139.  -943.\n",
      "  -256.   416.   898.   866.   340.   182.   972.  1866.  1707.   436.\n",
      " -1167. -2194. -1888.  -284.  1297.  1418.   256.  -589.  -457.  -337.\n",
      "  -880. -1182.  -384.   869.  1309.   670.  -426. -1407. -1744.  -754.\n",
      "  1454.  3255.  2954.   925.  -936. -1536. -1424. -1411. -1369.  -853.\n",
      "  -423.  -998. -1731.  -549.  2359.  3994.  2382.  -907. -2877. -2243.\n",
      "  -133.]\n",
      "[    0.     0.     0.     0.     0.     0.     0.     0.     0.     0.\n",
      "     0.     0.     0.     0.     0.     0.   -69.  -234.  -503.  -861.\n",
      " -1278. -1463. -1467. -1151.  -380.   768.  2241.  3906.  5474.  6578.\n",
      "  6689.  5744.  3704.   987. -1879. -4256. -6038. -6559. -6103. -5105.\n",
      " -3890. -2441. -1177.  -272.   251.   497.   653.   816.   976.   977.\n",
      "   739.   346.  -114.  -689. -1243. -1285.  -536.   688.  1552.  1710.\n",
      "  1482.  1231.   829.   162.  -372.  -270.   228.   275.  -412.  -984.\n",
      "  -758.   112.   803.   806.   528.   880.  1951.  2123.   171. -2542.\n",
      " -3550. -2185.  -208.  1071.  1748.  1717.   237. -2135. -3313. -2122.\n",
      "   121.  1642.  1913.  1383.   344.  -486.   -11.  1130.  1021.  -493.\n",
      " -1437.  -765.   329.   498.   103.    49.   145.    41.   -42.   -40.\n",
      "  -225.  -444.   -67.   791.   963.  -149. -1361. -1227.  -141.   344.\n",
      "  -160.  -666.  -477.    74.   440.   350.   -96.  -331.   450.  2179.\n",
      "  2883.   427. -3971. -5998. -2981.  2357.  4975.  3368.   555. -1021.\n",
      " -1755. -2264. -1917.  -625.   609.  1047.  1239.  2082.  3085.  2547.\n",
      "  -216. -3261. -3792. -1705.   168.  -217. -1643. -1706.    34.  1903.\n",
      "  2288.  1350.   489.   305.   204.  -182.  -519.  -609.  -587.  -386.\n",
      "   260.  1086.  1249.   630.    94.   131.    59.  -758. -1733. -1716.\n",
      "  -485.   783.   833.    60.  -170.   377.   578.   -61.  -235.  1156.\n",
      "  2549.  1287. -2229. -4268. -2519.   763.  2009.   838.  -502.  -776.\n",
      "  -570.  -176.   716.  1577.  1281.   105.  -264.   883.  2002.  1408.\n",
      "  -534. -2138. -2286. -1124.   302.   808.   226.  -428.  -298.   308.\n",
      "   512.    97.  -363.  -318.    59.   272.    14.  -757. -1588. -1445.\n",
      "   381.  2979.  4038.  2389.  -529. -2342. -2334. -1574. -1038.  -709.\n",
      "  -471.  -593.  -856.  -212.  1697.  3290.  2601.   -90. -2391. -2547.\n",
      " -1028.]\n",
      "[    0.     0.     0.     0.     0.     0.     0.     0.     0.     0.\n",
      "     0.     0.     0.     0.     0.     0.   -26.  -123.  -306.  -560.\n",
      "  -872. -1063. -1190. -1099.  -662.   163.  1353.  2773.  4141.  5199.\n",
      "  5530.  4995.  3523.  1376.  -947. -2993. -4611. -5272. -5130. -4476.\n",
      " -3557. -2361. -1208.  -382.    56.   284.   553.   831.   974.   842.\n",
      "   438.  -122.  -721. -1256. -1457.  -989.   215.  1520.  2243.  2275.\n",
      "  1985.  1627.  1015.     8. -1007. -1301.  -758.  -250.  -434.  -782.\n",
      "  -385.   809.  1857.  2138.  1964.  1541.   391. -1356. -2695. -2714.\n",
      " -1589.  -120.   899.  1399.  1602.  1344.     7. -2184. -3612. -2920.\n",
      "  -678.  1332.  1616.   627.    83.  1041.  2412.  2096.   -54. -1872.\n",
      " -1682.  -278.   531.   452.   286.   323.   259.   133.   144.   212.\n",
      "   -85.  -692.  -845.  -209.   348.   146.  -260.  -379.  -478.  -618.\n",
      "  -457.   -32.   190.   -43.  -495.  -729.  -437.   503.  2090.  3566.\n",
      "  3032.  -634. -5140. -6244. -2566.  2350.  4386.  3167.  1159.  -393.\n",
      " -1615. -2170. -1563.  -372.   389.   506.   813.  1856.  2741.  2005.\n",
      "  -429. -2752. -3018. -1497.  -228.  -368. -1101. -1053.   217.  1681.\n",
      "  1885.   973.   370.   450.   334.  -217.  -443.   -75.   153.  -193.\n",
      "  -486.  -177.   344.   427.    58.  -247.  -105.   146.   -77.  -685.\n",
      "  -958.  -600.   -18.   493.   947.   918.  -135. -1209.  -202.  2602.\n",
      "  3720.   779. -3613. -4786. -1919.  1304.  1743.   295.  -642.  -579.\n",
      "  -366.   -96.   562.  1086.   769.   153.   330.  1191.  1590.   832.\n",
      "  -637. -1746. -1631.  -289.  1285.  1605.   301. -1162. -1389.  -811.\n",
      "  -525.  -462.    85.   931.  1169.   570.  -302. -1062. -1541. -1242.\n",
      "   307.  2407.  3230.  1834.  -460. -1662. -1495. -1102. -1014.  -785.\n",
      "  -479.  -852. -1503.  -747.  1678.  3426.  2399.  -416. -2252. -1718.\n",
      "   273.]\n"
     ]
    }
   ],
   "source": [
    "# Present the five traces for us\n",
    "for tr in f.trace[1:5]:\n",
    "    print(tr)\n",
    "# Traces support steps\n",
    "for tr in f.trace[1:5:2]:\n",
    "    print(tr)"
   ]
  },
  {
   "cell_type": "code",
   "execution_count": 29,
   "metadata": {},
   "outputs": [
    {
     "name": "stdout",
     "output_type": "stream",
     "text": [
      "{FieldRecord: 1000,\n",
      " TRACE_SEQUENCE_FILE: 12,\n",
      " TRACE_SEQUENCE_LINE: 11,\n",
      " TraceNumber: 0,\n",
      " EnergySourcePoint: 0,\n",
      " CDP: 1010,\n",
      " CDP_TRACE: 0,\n",
      " TraceIdentificationCode: 1,\n",
      " NSummedTraces: 0,\n",
      " NStackedTraces: 0,\n",
      " DataUse: 1,\n",
      " offset: 0,\n",
      " ReceiverGroupElevation: 0,\n",
      " SourceSurfaceElevation: 0,\n",
      " SourceDepth: 0,\n",
      " ReceiverDatumElevation: 0,\n",
      " SourceDatumElevation: 0,\n",
      " SourceWaterDepth: 0,\n",
      " GroupWaterDepth: 0,\n",
      " ElevationScalar: 0,\n",
      " SourceGroupScalar: -10,\n",
      " SourceX: 7322036,\n",
      " SourceY: 48902249,\n",
      " GroupX: 0,\n",
      " GroupY: 0,\n",
      " CoordinateUnits: 1,\n",
      " WeatheringVelocity: 0,\n",
      " SubWeatheringVelocity: 0,\n",
      " SourceUpholeTime: 0,\n",
      " GroupUpholeTime: 0,\n",
      " SourceStaticCorrection: 0,\n",
      " GroupStaticCorrection: 0,\n",
      " TotalStaticApplied: 0,\n",
      " LagTimeA: 0,\n",
      " LagTimeB: 0,\n",
      " DelayRecordingTime: 0,\n",
      " MuteTimeStart: 0,\n",
      " MuteTimeEND: 0,\n",
      " TRACE_SAMPLE_COUNT: 251,\n",
      " TRACE_SAMPLE_INTERVAL: 4000,\n",
      " GainType: 0,\n",
      " InstrumentGainConstant: 0,\n",
      " InstrumentInitialGain: 0,\n",
      " Correlated: 0,\n",
      " SweepFrequencyStart: 0,\n",
      " SweepFrequencyEnd: 0,\n",
      " SweepLength: 0,\n",
      " SweepType: 0,\n",
      " SweepTraceTaperLengthStart: 0,\n",
      " SweepTraceTaperLengthEnd: 0,\n",
      " TaperType: 0,\n",
      " AliasFilterFrequency: 0,\n",
      " AliasFilterSlope: 0,\n",
      " NotchFilterFrequency: 0,\n",
      " NotchFilterSlope: 0,\n",
      " LowCutFrequency: 0,\n",
      " HighCutFrequency: 0,\n",
      " LowCutSlope: 0,\n",
      " HighCutSlope: 0,\n",
      " YearDataRecorded: 0,\n",
      " DayOfYear: 0,\n",
      " HourOfDay: 0,\n",
      " MinuteOfHour: 0,\n",
      " SecondOfMinute: 0,\n",
      " TimeBaseCode: 0,\n",
      " TraceWeightingFactor: 0,\n",
      " GeophoneGroupNumberRoll1: 0,\n",
      " GeophoneGroupNumberFirstTraceOrigField: 0,\n",
      " GeophoneGroupNumberLastTraceOrigField: 0,\n",
      " GapSize: 0,\n",
      " OverTravel: 0,\n",
      " CDP_X: 7322036,\n",
      " CDP_Y: 48902249,\n",
      " INLINE_3D: 1000,\n",
      " CROSSLINE_3D: 1010,\n",
      " ShotPoint: 12,\n",
      " ShotPointScalar: 0,\n",
      " TraceValueMeasurementUnit: 0,\n",
      " TransductionConstantMantissa: 0,\n",
      " TransductionConstantPower: 0,\n",
      " TransductionUnit: 0,\n",
      " TraceIdentifier: 0,\n",
      " ScalarTraceHeader: 0,\n",
      " SourceType: 0,\n",
      " SourceEnergyDirectionMantissa: 0,\n",
      " SourceEnergyDirectionExponent: 0,\n",
      " SourceMeasurementMantissa: 0,\n",
      " SourceMeasurementExponent: 0,\n",
      " SourceMeasurementUnit: 0}\n"
     ]
    }
   ],
   "source": [
    "# segyio support volume\n",
    "f.header[10:20] # headers are dictionary\n",
    "#help(f.header)\n",
    "h10 = f.header[10]\n",
    "pprint.pprint(dict(h10))"
   ]
  },
  {
   "cell_type": "code",
   "execution_count": 33,
   "metadata": {},
   "outputs": [
    {
     "data": {
      "text/plain": [
       "181"
      ]
     },
     "execution_count": 33,
     "metadata": {},
     "output_type": "execute_result"
    }
   ],
   "source": [
    "# get inline number:\n",
    "segyio.TraceField.CDP_X"
   ]
  },
  {
   "cell_type": "code",
   "execution_count": 41,
   "metadata": {},
   "outputs": [
    {
     "data": {
      "text/plain": [
       "<bound method Field.keys of {JobID: 1, LineNumber: 0, ReelNumber: 0, Traces: 0, AuxTraces: 0, Interval: 4000, IntervalOriginal: 0, Samples: 251, SamplesOriginal: 0, Format: 5, EnsembleFold: 0, SortingCode: 4, VerticalSum: 0, SweepFrequencyStart: 0, SweepFrequencyEnd: 0, SweepLength: 0, Sweep: 0, SweepChannel: 0, SweepTaperStart: 0, SweepTaperEnd: 0, Taper: 0, CorrelatedTraces: 0, BinaryGainRecovery: 0, AmplitudeRecovery: 0, MeasurementSystem: 1, ImpulseSignalPolarity: 0, VibratoryPolarity: 0, SEGYRevision: 256, TraceFlag: 1, ExtendedHeaders: 0}>"
      ]
     },
     "execution_count": 41,
     "metadata": {},
     "output_type": "execute_result"
    }
   ],
   "source": [
    "# h10.keys to check\n",
    "# h10.items\n",
    "# f.bin: binary headers\n",
    "d = {}.update(foo = 2) # create a dictionary\n",
    "d = {1:1, 'geo':'awesome'}\n",
    "d.update(foo = 2)\n",
    "f.bin.keys"
   ]
  },
  {
   "cell_type": "code",
   "execution_count": 42,
   "metadata": {},
   "outputs": [
    {
     "data": {
      "text/plain": [
       "0"
      ]
     },
     "execution_count": 42,
     "metadata": {},
     "output_type": "execute_result"
    }
   ],
   "source": [
    "f.bin[segyio.BinField.CorrelatedTraces]"
   ]
  },
  {
   "cell_type": "code",
   "execution_count": 51,
   "metadata": {},
   "outputs": [
    {
     "data": {
      "text/plain": [
       "10"
      ]
     },
     "execution_count": 51,
     "metadata": {},
     "output_type": "execute_result"
    }
   ],
   "source": [
    "# Write into the traces:\n",
    "\n",
    "f = segyio.open('modified-penobscot.sgy', mode = 'r+')\n",
    "# Used to be 0\n",
    "f.bin[segyio.BinField.CorrelatedTraces] = 10\n",
    "\n",
    "f.bin[segyio.BinField.CorrelatedTraces]\n",
    "\n",
    "g = segyio.open('modified-penobscot.sgy')\n",
    "g.bin[segyio.BinField.CorrelatedTraces]"
   ]
  },
  {
   "cell_type": "code",
   "execution_count": 59,
   "metadata": {},
   "outputs": [
    {
     "name": "stdout",
     "output_type": "stream",
     "text": [
      "[JobID, LineNumber, ReelNumber, Traces, AuxTraces, Interval, IntervalOriginal, Samples, SamplesOriginal, Format, EnsembleFold, SortingCode, VerticalSum, SweepFrequencyStart, SweepFrequencyEnd, SweepLength, Sweep, SweepChannel, SweepTaperStart, SweepTaperEnd, Taper, CorrelatedTraces, BinaryGainRecovery, AmplitudeRecovery, MeasurementSystem, ImpulseSignalPolarity, VibratoryPolarity, SEGYRevision, TraceFlag, ExtendedHeaders]\n",
      "Object `f.bin.updates` not found.\n"
     ]
    }
   ],
   "source": [
    "print(f.bin.keys())\n",
    "f.bin[segyio.BinField.SamplesOriginal, segyio.BinField.IntervalOriginal]\n",
    "f.bin.updates?\n",
    "# 45:04\n"
   ]
  },
  {
   "cell_type": "code",
   "execution_count": 61,
   "metadata": {},
   "outputs": [
    {
     "name": "stdout",
     "output_type": "stream",
     "text": [
      "(1, 251)\n",
      "(1, 251)\n",
      "(1, 251)\n",
      "(1, 251)\n",
      "(1, 251)\n",
      "(1, 251)\n",
      "(1, 251)\n",
      "(1, 251)\n",
      "(1, 251)\n",
      "(1, 251)\n",
      "(1, 251)\n",
      "(1, 251)\n",
      "(1, 251)\n",
      "(1, 251)\n",
      "(1, 251)\n",
      "(1, 251)\n",
      "(1, 251)\n",
      "(1, 251)\n",
      "(1, 251)\n",
      "(1, 251)\n",
      "(1, 251)\n",
      "(1, 251)\n",
      "(1, 251)\n",
      "(1, 251)\n",
      "(1, 251)\n"
     ]
    }
   ],
   "source": [
    "f.gather # use .gather give you access to 2D index \n",
    "# put yoursel specifically into a grid\n",
    "f.gather[1200, 1260] # show trace of inline 1200 and crossline 1260\n",
    "for il in f.gather[1200:1205, 1260:1265]:\n",
    "    print(il.shape)# allows you to get into anyline "
   ]
  },
  {
   "cell_type": "code",
   "execution_count": 62,
   "metadata": {},
   "outputs": [],
   "source": [
    "segyio.open?"
   ]
  },
  {
   "cell_type": "code",
   "execution_count": null,
   "metadata": {},
   "outputs": [],
   "source": []
  }
 ],
 "metadata": {
  "kernelspec": {
   "display_name": "Python 3",
   "language": "python",
   "name": "python3"
  },
  "language_info": {
   "codemirror_mode": {
    "name": "ipython",
    "version": 3
   },
   "file_extension": ".py",
   "mimetype": "text/x-python",
   "name": "python",
   "nbconvert_exporter": "python",
   "pygments_lexer": "ipython3",
   "version": "3.7.6"
  }
 },
 "nbformat": 4,
 "nbformat_minor": 4
}
